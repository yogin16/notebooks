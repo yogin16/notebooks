{
  "nbformat": 4,
  "nbformat_minor": 0,
  "metadata": {
    "colab": {
      "name": "CartPole - Example of Deep Reinforcement Learning",
      "provenance": [],
      "collapsed_sections": [],
      "include_colab_link": true
    },
    "kernelspec": {
      "name": "python3",
      "display_name": "Python 3"
    }
  },
  "cells": [
    {
      "cell_type": "markdown",
      "metadata": {
        "id": "view-in-github",
        "colab_type": "text"
      },
      "source": [
        "<a href=\"https://colab.research.google.com/github/yogin16/notebooks/blob/master/deep-reinforcement-learning.ipynb\" target=\"_parent\"><img src=\"https://colab.research.google.com/assets/colab-badge.svg\" alt=\"Open In Colab\"/></a>"
      ]
    },
    {
      "cell_type": "markdown",
      "metadata": {
        "id": "a4GvxJNwPfQd",
        "colab_type": "text"
      },
      "source": [
        "# Reinforcement Learning\n",
        "Reinforcement Learning is a type of machine learning that allows you to create AI agents that learn from the environment by interacting with it. Just like how we learn to ride a bicycle, this kind of AI learns by trial and error. As seen in the picture, the brain represents the AI agent, which acts on the environment. After each action, the agent receives the feedback. The feedback consists of the reward and next state of the environment. The reward is usually defined by a human. If we use the analogy of the bicycle, we can define reward as the distance from the original starting point.\n",
        "\n",
        "![reinforcement learning](https://www.kdnuggets.com/images/reinforcement-learning-fig1-700.jpg)\n"
      ]
    },
    {
      "cell_type": "markdown",
      "metadata": {
        "id": "t_YgvTGuPeo6",
        "colab_type": "text"
      },
      "source": [
        "# Deep Reinforcement Learning\n",
        "\n",
        "In Q-Learning Algorithm, there is a function called Q Function, which is used to approximate the reward based on a state. We call it Q(s,a), where Q is a function which calculates the expected future value from state s and action a. Similarly in Deep Q Network algorithm, we use a neural network to approximate the reward based on the state. We will discuss how this works in detail.\n",
        "\n",
        "So the \"Agent\" is a deep learning neural network."
      ]
    },
    {
      "cell_type": "markdown",
      "metadata": {
        "id": "80v4WvYdQ72F",
        "colab_type": "text"
      },
      "source": [
        "## install dependancies, takes around 45 seconds"
      ]
    },
    {
      "cell_type": "code",
      "metadata": {
        "id": "sSX8qGfOQ81g",
        "colab_type": "code",
        "colab": {}
      },
      "source": [
        "#remove \" > /dev/null 2>&1\" to see what is going on under the hood\n",
        "!pip install gym pyvirtualdisplay > /dev/null 2>&1\n",
        "!apt-get install -y xvfb python-opengl ffmpeg > /dev/null 2>&1"
      ],
      "execution_count": 0,
      "outputs": []
    },
    {
      "cell_type": "code",
      "metadata": {
        "id": "D2Em_bZLRCbp",
        "colab_type": "code",
        "outputId": "69213dd0-8f95-4f9c-9337-8f9fda6d01e7",
        "colab": {
          "base_uri": "https://localhost:8080/",
          "height": 310
        }
      },
      "source": [
        "!apt-get update > /dev/null 2>&1\n",
        "!apt-get install cmake > /dev/null 2>&1\n",
        "!pip install --upgrade setuptools 2>&1\n",
        "!pip install ez_setup > /dev/null 2>&1\n",
        "!pip install gym[atari] > /dev/null 2>&1\n",
        "!pip install pyglet==1.3.2"
      ],
      "execution_count": 0,
      "outputs": [
        {
          "output_type": "stream",
          "text": [
            "Collecting setuptools\n",
            "\u001b[?25l  Downloading https://files.pythonhosted.org/packages/d9/de/554b6310ac87c5b921bc45634b07b11394fe63bc4cb5176f5240addf18ab/setuptools-41.6.0-py2.py3-none-any.whl (582kB)\n",
            "\u001b[K     |████████████████████████████████| 583kB 2.8MB/s \n",
            "\u001b[31mERROR: datascience 0.10.6 has requirement folium==0.2.1, but you'll have folium 0.8.3 which is incompatible.\u001b[0m\n",
            "\u001b[?25hInstalling collected packages: setuptools\n",
            "  Found existing installation: setuptools 41.4.0\n",
            "    Uninstalling setuptools-41.4.0:\n",
            "      Successfully uninstalled setuptools-41.4.0\n",
            "Successfully installed setuptools-41.6.0\n"
          ],
          "name": "stdout"
        },
        {
          "output_type": "display_data",
          "data": {
            "application/vnd.colab-display-data+json": {
              "pip_warning": {
                "packages": [
                  "pkg_resources"
                ]
              }
            }
          },
          "metadata": {
            "tags": []
          }
        },
        {
          "output_type": "stream",
          "text": [
            "Requirement already satisfied: pyglet==1.3.2 in /usr/local/lib/python3.6/dist-packages (1.3.2)\n",
            "Requirement already satisfied: future in /usr/local/lib/python3.6/dist-packages (from pyglet==1.3.2) (0.16.0)\n"
          ],
          "name": "stdout"
        }
      ]
    },
    {
      "cell_type": "markdown",
      "metadata": {
        "id": "XxKnLrDuRL73",
        "colab_type": "text"
      },
      "source": [
        "## imports and helper functions"
      ]
    },
    {
      "cell_type": "code",
      "metadata": {
        "id": "VLaE3QTiRM48",
        "colab_type": "code",
        "outputId": "d9f7b698-c34f-479c-c2d8-9d51b36943a5",
        "colab": {
          "base_uri": "https://localhost:8080/",
          "height": 80
        }
      },
      "source": [
        "import gym\n",
        "import os\n",
        "from gym import logger as gymlogger\n",
        "from gym.wrappers import Monitor\n",
        "gymlogger.set_level(40) #error only\n",
        "import tensorflow as tf\n",
        "import numpy as np\n",
        "import random\n",
        "import matplotlib\n",
        "import matplotlib.pyplot as plt\n",
        "%matplotlib inline\n",
        "import math\n",
        "import glob\n",
        "import io\n",
        "import base64\n",
        "from IPython.display import HTML\n",
        "\n",
        "from IPython import display as ipythondisplay\n",
        "\n",
        "from collections import deque\n",
        "from keras.models import Sequential\n",
        "from keras.layers import Dense\n",
        "from keras.optimizers import Adam"
      ],
      "execution_count": 0,
      "outputs": [
        {
          "output_type": "display_data",
          "data": {
            "text/html": [
              "<p style=\"color: red;\">\n",
              "The default version of TensorFlow in Colab will soon switch to TensorFlow 2.x.<br>\n",
              "We recommend you <a href=\"https://www.tensorflow.org/guide/migrate\" target=\"_blank\">upgrade</a> now \n",
              "or ensure your notebook will continue to use TensorFlow 1.x via the <code>%tensorflow_version 1.x</code> magic:\n",
              "<a href=\"https://colab.research.google.com/notebooks/tensorflow_version.ipynb\" target=\"_blank\">more info</a>.</p>\n"
            ],
            "text/plain": [
              "<IPython.core.display.HTML object>"
            ]
          },
          "metadata": {
            "tags": []
          }
        },
        {
          "output_type": "stream",
          "text": [
            "Using TensorFlow backend.\n"
          ],
          "name": "stderr"
        }
      ]
    },
    {
      "cell_type": "code",
      "metadata": {
        "id": "o6xW3vRk2b9F",
        "colab_type": "code",
        "colab": {}
      },
      "source": [
        "# supressing extra logging\n",
        "import os\n",
        "os.environ['TF_CPP_MIN_LOG_LEVEL'] = '3'\n",
        "import tensorflow as tf\n",
        "tf.compat.v1.logging.set_verbosity(tf.compat.v1.logging.ERROR)"
      ],
      "execution_count": 0,
      "outputs": []
    },
    {
      "cell_type": "code",
      "metadata": {
        "id": "9VPbmNqPRRAL",
        "colab_type": "code",
        "outputId": "9e3235f3-a7d1-4d21-dedb-e006a6caa00f",
        "colab": {
          "base_uri": "https://localhost:8080/",
          "height": 71
        }
      },
      "source": [
        "from pyvirtualdisplay import Display\n",
        "display = Display(visible=0, size=(1400, 900))\n",
        "display.start()"
      ],
      "execution_count": 0,
      "outputs": [
        {
          "output_type": "stream",
          "text": [
            "xdpyinfo was not found, X start can not be checked! Please install xdpyinfo!\n"
          ],
          "name": "stderr"
        },
        {
          "output_type": "execute_result",
          "data": {
            "text/plain": [
              "<Display cmd_param=['Xvfb', '-br', '-nolisten', 'tcp', '-screen', '0', '1400x900x24', ':1001'] cmd=['Xvfb', '-br', '-nolisten', 'tcp', '-screen', '0', '1400x900x24', ':1001'] oserror=None return_code=None stdout=\"None\" stderr=\"None\" timeout_happened=False>"
            ]
          },
          "metadata": {
            "tags": []
          },
          "execution_count": 5
        }
      ]
    },
    {
      "cell_type": "code",
      "metadata": {
        "id": "9Rk5zozZRTZX",
        "colab_type": "code",
        "colab": {}
      },
      "source": [
        "\"\"\"\n",
        "Utility functions to enable video recording of gym environment and displaying it\n",
        "To enable video, just do \"env = wrap_env(env)\"\"\n",
        "\"\"\"\n",
        "\n",
        "def show_videos():\n",
        "  mp4list = sorted(glob.glob('video/*.mp4'), key=os.path.getmtime)\n",
        "  print(mp4list)\n",
        "  if len(mp4list) > 0:\n",
        "    for mp4 in mp4list:\n",
        "      # mp4 = mp4list[-1]\n",
        "      print(mp4)\n",
        "      video = io.open(mp4, 'r+b').read()\n",
        "      encoded = base64.b64encode(video)\n",
        "      ipythondisplay.display(HTML(data='''<video alt=\"test\" autoplay \n",
        "                loop controls style=\"height: 400px;\">\n",
        "                <source src=\"data:video/mp4;base64,{0}\" type=\"video/mp4\" />\n",
        "             </video>'''.format(encoded.decode('ascii'))))\n",
        "  else: \n",
        "    print(\"Could not find video\")\n",
        "    \n",
        "\n",
        "def wrap_env(env):\n",
        "  # use this if you want to record every thing\n",
        "  # env = Monitor(env, './video', force=True, video_callable=lambda episode_id: True)\n",
        "  # record every 10th episode\n",
        "  env = Monitor(env, './video', force=True, video_callable=lambda episode_id: episode_id%10==0)\n",
        "  return env"
      ],
      "execution_count": 0,
      "outputs": []
    },
    {
      "cell_type": "markdown",
      "metadata": {
        "id": "MkoyQN8HRZng",
        "colab_type": "text"
      },
      "source": [
        "# CartPole\n",
        "![cartpole](https://keon.io/images/deep-q-learning/animation.gif)\n",
        "\n",
        "CartPole is one of the simplest environments in OpenAI gym (a game simulator). As you can see in the animation from the top, the goal of CartPole is to balance a pole connected with one joint on top of a moving cart. Instead of pixel information, there are 4 kinds of information given by the state, such as angle of the pole and position of the cart. An agent can move the cart by performing a series of actions of 0 or 1 to the cart, pushing it left or right."
      ]
    },
    {
      "cell_type": "code",
      "metadata": {
        "id": "78BQK17SkcEJ",
        "colab_type": "code",
        "outputId": "9a303752-a090-4dab-f5ce-7fae64a277af",
        "colab": {
          "base_uri": "https://localhost:8080/",
          "height": 321
        }
      },
      "source": [
        "from IPython.display import YouTubeVideo\n",
        "YouTubeVideo('XiigTGKZfks')"
      ],
      "execution_count": 0,
      "outputs": [
        {
          "output_type": "execute_result",
          "data": {
            "text/html": [
              "\n",
              "        <iframe\n",
              "            width=\"400\"\n",
              "            height=\"300\"\n",
              "            src=\"https://www.youtube.com/embed/XiigTGKZfks\"\n",
              "            frameborder=\"0\"\n",
              "            allowfullscreen\n",
              "        ></iframe>\n",
              "        "
            ],
            "text/plain": [
              "<IPython.lib.display.YouTubeVideo at 0x7f0acbb00518>"
            ],
            "image/jpeg": "[encoded data removed]"
          },
          "metadata": {
            "tags": []
          },
          "execution_count": 7
        }
      ]
    },
    {
      "cell_type": "code",
      "metadata": {
        "id": "XMSO6PCmQ0gp",
        "colab_type": "code",
        "outputId": "58cccff6-6ba0-427b-cedf-94cfcd9e1d8e",
        "colab": {
          "base_uri": "https://localhost:8080/",
          "height": 321
        }
      },
      "source": [
        "from IPython.display import YouTubeVideo\n",
        "YouTubeVideo('qjhAAQexzLg')"
      ],
      "execution_count": 0,
      "outputs": [
        {
          "output_type": "execute_result",
          "data": {
            "text/html": [
              "\n",
              "        <iframe\n",
              "            width=\"400\"\n",
              "            height=\"300\"\n",
              "            src=\"https://www.youtube.com/embed/qjhAAQexzLg\"\n",
              "            frameborder=\"0\"\n",
              "            allowfullscreen\n",
              "        ></iframe>\n",
              "        "
            ],
            "text/plain": [
              "<IPython.lib.display.YouTubeVideo at 0x7f0acbb00d68>"
            ],
            "image/jpeg": "[encoded data removed]"
          },
          "metadata": {
            "tags": []
          },
          "execution_count": 8
        }
      ]
    },
    {
      "cell_type": "code",
      "metadata": {
        "id": "2JVpW9BZTC3m",
        "colab_type": "code",
        "colab": {}
      },
      "source": [
        "EPISODES = 71 #1000"
      ],
      "execution_count": 0,
      "outputs": []
    },
    {
      "cell_type": "markdown",
      "metadata": {
        "id": "WpjirpViTU8h",
        "colab_type": "text"
      },
      "source": [
        "# Agent\n",
        "\n",
        "Our agent is applying Q-Learning technique. Specifically, \"Deep Q-Learning\" because it is using nueral network to replay the rewards."
      ]
    },
    {
      "cell_type": "code",
      "metadata": {
        "id": "6cF_d1JITULN",
        "colab_type": "code",
        "colab": {}
      },
      "source": [
        "class DQNAgent:\n",
        "    def __init__(self, state_size, action_size):\n",
        "        self.state_size = state_size\n",
        "        self.action_size = action_size\n",
        "        self.memory = deque(maxlen=2000)\n",
        "        self.gamma = 0.95    # discount rate\n",
        "        self.epsilon = 1.0  # exploration rate\n",
        "        self.epsilon_min = 0.01\n",
        "        self.epsilon_decay = 0.995\n",
        "        self.learning_rate = 0.001\n",
        "        self.model = self._build_model()\n",
        "\n",
        "    def _build_model(self):\n",
        "        # Neural Net for Deep-Q learning Model\n",
        "        model = Sequential()\n",
        "        model.add(Dense(24, input_dim=self.state_size, activation='relu'))\n",
        "        model.add(Dense(24, activation='relu'))\n",
        "        model.add(Dense(self.action_size, activation='linear'))\n",
        "        model.compile(loss='mse',\n",
        "                      optimizer=Adam(lr=self.learning_rate))\n",
        "        return model\n",
        "\n",
        "    def remember(self, state, action, reward, next_state, done):\n",
        "        self.memory.append((state, action, reward, next_state, done))\n",
        "\n",
        "    def act(self, state):\n",
        "        if np.random.rand() <= self.epsilon: # Explore with epsilon probability\n",
        "        # This makes the whole system stochastic. So running it again would yield similar but different results\n",
        "            return random.randrange(self.action_size)\n",
        "        act_values = self.model.predict(state)\n",
        "        return np.argmax(act_values[0])  # returns action\n",
        "\n",
        "    def replay(self, batch_size):\n",
        "        minibatch = random.sample(self.memory, batch_size)\n",
        "        for state, action, reward, next_state, done in minibatch:\n",
        "            target = reward\n",
        "            if not done:\n",
        "                target = (reward + self.gamma *\n",
        "                          np.amax(self.model.predict(next_state)[0]))\n",
        "            target_f = self.model.predict(state)\n",
        "            target_f[0][action] = target\n",
        "            self.model.fit(state, target_f, epochs=1, verbose=0)\n",
        "        if self.epsilon > self.epsilon_min:\n",
        "            self.epsilon *= self.epsilon_decay\n",
        "\n",
        "    def load(self, name):\n",
        "        self.model.load_weights(name)\n",
        "\n",
        "    def save(self, name):\n",
        "        self.model.save_weights(name)"
      ],
      "execution_count": 0,
      "outputs": []
    },
    {
      "cell_type": "markdown",
      "metadata": {
        "id": "90MDUgYaUztW",
        "colab_type": "text"
      },
      "source": [
        "# Enviroment\n",
        "\n",
        "In any reinforcement learning setup, environment is a given.\n",
        "\n",
        "Here, we are using `gym` library to simulate the 'CartPole' problem environment."
      ]
    },
    {
      "cell_type": "code",
      "metadata": {
        "id": "4eU1z66rU2jL",
        "colab_type": "code",
        "colab": {}
      },
      "source": [
        "env = wrap_env(gym.make(\"CartPole-v1\"))\n",
        "state_size = env.observation_space.shape[0]\n",
        "action_size = env.action_space.n\n",
        "agent = DQNAgent(state_size, action_size)\n",
        "# agent.load(\"./save/cartpole-dqn.h5\")\n",
        "done = False\n",
        "batch_size = 32"
      ],
      "execution_count": 0,
      "outputs": []
    },
    {
      "cell_type": "code",
      "metadata": {
        "id": "-Lw9KQPBU5Yc",
        "colab_type": "code",
        "outputId": "c938f81e-e68b-4bdd-ea19-bee9a9eaebcd",
        "colab": {
          "base_uri": "https://localhost:8080/",
          "height": 1000
        }
      },
      "source": [
        "score = []\n",
        "for e in range(EPISODES):\n",
        "  state = env.reset()\n",
        "  state = np.reshape(state, [1, state_size])\n",
        "  for time in range(500):\n",
        "    action = agent.act(state)\n",
        "    next_state, reward, done, _ = env.step(action)\n",
        "    reward = reward if not done else -10\n",
        "    next_state = np.reshape(next_state, [1, state_size])\n",
        "    agent.remember(state, action, reward, next_state, done)\n",
        "    state = next_state\n",
        "    if done:\n",
        "      score.append(time)\n",
        "      print(\"episode: {}/{}, score: {}, epsilon: {:.2}\".format(e, EPISODES, time, agent.epsilon))\n",
        "      break\n",
        "    if len(agent.memory) > batch_size:\n",
        "      agent.replay(batch_size)\n",
        "  # if e % 10 == 0:\n",
        "  #     agent.save(\"./save/cartpole-dqn.h5\")\n",
        "env.render()\n",
        "env.close()\n",
        "print('after {} episodes of training'.format(EPISODES))\n",
        "show_videos()"
      ],
      "execution_count": 0,
      "outputs": [
        {
          "output_type": "stream",
          "text": [
            "episode: 0/71, score: 12, epsilon: 1.0\n",
            "episode: 1/71, score: 47, epsilon: 0.87\n",
            "episode: 2/71, score: 20, epsilon: 0.79\n",
            "episode: 3/71, score: 36, epsilon: 0.66\n",
            "episode: 4/71, score: 14, epsilon: 0.61\n",
            "episode: 5/71, score: 20, epsilon: 0.55\n",
            "episode: 6/71, score: 13, epsilon: 0.52\n",
            "episode: 7/71, score: 10, epsilon: 0.49\n",
            "episode: 8/71, score: 13, epsilon: 0.46\n",
            "episode: 9/71, score: 9, epsilon: 0.44\n",
            "episode: 10/71, score: 11, epsilon: 0.42\n",
            "episode: 11/71, score: 13, epsilon: 0.39\n",
            "episode: 12/71, score: 12, epsilon: 0.37\n",
            "episode: 13/71, score: 14, epsilon: 0.34\n",
            "episode: 14/71, score: 12, epsilon: 0.32\n",
            "episode: 15/71, score: 10, epsilon: 0.31\n",
            "episode: 16/71, score: 10, epsilon: 0.29\n",
            "episode: 17/71, score: 10, epsilon: 0.28\n",
            "episode: 18/71, score: 15, epsilon: 0.26\n",
            "episode: 19/71, score: 15, epsilon: 0.24\n",
            "episode: 20/71, score: 8, epsilon: 0.23\n",
            "episode: 21/71, score: 9, epsilon: 0.22\n",
            "episode: 22/71, score: 12, epsilon: 0.21\n",
            "episode: 23/71, score: 9, epsilon: 0.2\n",
            "episode: 24/71, score: 28, epsilon: 0.17\n",
            "episode: 25/71, score: 9, epsilon: 0.16\n",
            "episode: 26/71, score: 9, epsilon: 0.16\n",
            "episode: 27/71, score: 9, epsilon: 0.15\n",
            "episode: 28/71, score: 8, epsilon: 0.14\n",
            "episode: 29/71, score: 8, epsilon: 0.14\n",
            "episode: 30/71, score: 8, epsilon: 0.13\n",
            "episode: 31/71, score: 11, epsilon: 0.13\n",
            "episode: 32/71, score: 8, epsilon: 0.12\n",
            "episode: 33/71, score: 8, epsilon: 0.12\n",
            "episode: 34/71, score: 13, epsilon: 0.11\n",
            "episode: 35/71, score: 10, epsilon: 0.1\n",
            "episode: 36/71, score: 8, epsilon: 0.1\n",
            "episode: 37/71, score: 17, epsilon: 0.092\n",
            "episode: 38/71, score: 11, epsilon: 0.087\n",
            "episode: 39/71, score: 15, epsilon: 0.08\n",
            "episode: 40/71, score: 18, epsilon: 0.073\n",
            "episode: 41/71, score: 19, epsilon: 0.067\n",
            "episode: 42/71, score: 22, epsilon: 0.06\n",
            "episode: 43/71, score: 35, epsilon: 0.05\n",
            "episode: 44/71, score: 21, epsilon: 0.045\n",
            "episode: 45/71, score: 26, epsilon: 0.04\n",
            "episode: 46/71, score: 57, epsilon: 0.03\n",
            "episode: 47/71, score: 17, epsilon: 0.027\n",
            "episode: 48/71, score: 13, epsilon: 0.026\n",
            "episode: 49/71, score: 15, epsilon: 0.024\n",
            "episode: 50/71, score: 19, epsilon: 0.022\n",
            "episode: 51/71, score: 27, epsilon: 0.019\n",
            "episode: 52/71, score: 41, epsilon: 0.015\n",
            "episode: 53/71, score: 34, epsilon: 0.013\n",
            "episode: 54/71, score: 24, epsilon: 0.011\n",
            "episode: 55/71, score: 40, epsilon: 0.01\n",
            "episode: 56/71, score: 23, epsilon: 0.01\n",
            "episode: 57/71, score: 33, epsilon: 0.01\n",
            "episode: 58/71, score: 35, epsilon: 0.01\n",
            "episode: 59/71, score: 23, epsilon: 0.01\n",
            "episode: 60/71, score: 44, epsilon: 0.01\n",
            "episode: 61/71, score: 47, epsilon: 0.01\n",
            "episode: 62/71, score: 33, epsilon: 0.01\n",
            "episode: 63/71, score: 86, epsilon: 0.01\n",
            "episode: 64/71, score: 176, epsilon: 0.01\n",
            "episode: 65/71, score: 242, epsilon: 0.01\n",
            "episode: 66/71, score: 154, epsilon: 0.01\n",
            "episode: 67/71, score: 109, epsilon: 0.01\n",
            "episode: 68/71, score: 83, epsilon: 0.01\n",
            "episode: 69/71, score: 294, epsilon: 0.01\n",
            "episode: 70/71, score: 192, epsilon: 0.01\n",
            "after 71 episodes of training\n",
            "['video/openaigym.video.0.126.video000000.mp4', 'video/openaigym.video.0.126.video000010.mp4', 'video/openaigym.video.0.126.video000020.mp4', 'video/openaigym.video.0.126.video000030.mp4', 'video/openaigym.video.0.126.video000040.mp4', 'video/openaigym.video.0.126.video000050.mp4', 'video/openaigym.video.0.126.video000060.mp4', 'video/openaigym.video.0.126.video000070.mp4']\n",
            "video/openaigym.video.0.126.video000000.mp4\n"
          ],
          "name": "stdout"
        },
        {
          "output_type": "display_data",
          "data": {
            "text/html": [
              "<video alt=\"test\" autoplay \n",
              "                loop controls style=\"height: 400px;\">\n",
              "                <source src=\"data:video/mp4;base64,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\" type=\"video/mp4\" />\n",
              "             </video>"
            ],
            "text/plain": [
              "<IPython.core.display.HTML object>"
            ]
          },
          "metadata": {
            "tags": []
          }
        },
        {
          "output_type": "stream",
          "text": [
            "video/openaigym.video.0.126.video000010.mp4\n"
          ],
          "name": "stdout"
        },
        {
          "output_type": "display_data",
          "data": {
            "text/html": [
              "<video alt=\"test\" autoplay \n",
              "                loop controls style=\"height: 400px;\">\n",
              "                <source src=\"data:video/mp4;base64,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\" type=\"video/mp4\" />\n",
              "             </video>"
            ],
            "text/plain": [
              "<IPython.core.display.HTML object>"
            ]
          },
          "metadata": {
            "tags": []
          }
        },
        {
          "output_type": "stream",
          "text": [
            "video/openaigym.video.0.126.video000020.mp4\n"
          ],
          "name": "stdout"
        },
        {
          "output_type": "display_data",
          "data": {
            "text/html": [
              "<video alt=\"test\" autoplay \n",
              "                loop controls style=\"height: 400px;\">\n",
              "                <source src=\"data:video/mp4;base64,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\" type=\"video/mp4\" />\n",
              "             </video>"
            ],
            "text/plain": [
              "<IPython.core.display.HTML object>"
            ]
          },
          "metadata": {
            "tags": []
          }
        },
        {
          "output_type": "stream",
          "text": [
            "video/openaigym.video.0.126.video000030.mp4\n"
          ],
          "name": "stdout"
        },
        {
          "output_type": "display_data",
          "data": {
            "text/html": [
              "<video alt=\"test\" autoplay \n",
              "                loop controls style=\"height: 400px;\">\n",
              "                <source src=\"data:video/mp4;base64,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\" type=\"video/mp4\" />\n",
              "             </video>"
            ],
            "text/plain": [
              "<IPython.core.display.HTML object>"
            ]
          },
          "metadata": {
            "tags": []
          }
        },
        {
          "output_type": "stream",
          "text": [
            "video/openaigym.video.0.126.video000040.mp4\n"
          ],
          "name": "stdout"
        },
        {
          "output_type": "display_data",
          "data": {
            "text/html": [
              "<video alt=\"test\" autoplay \n",
              "                loop controls style=\"height: 400px;\">\n",
              "                <source src=\"data:video/mp4;base64,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\" type=\"video/mp4\" />\n",
              "             </video>"
            ],
            "text/plain": [
              "<IPython.core.display.HTML object>"
            ]
          },
          "metadata": {
            "tags": []
          }
        },
        {
          "output_type": "stream",
          "text": [
            "video/openaigym.video.0.126.video000050.mp4\n"
          ],
          "name": "stdout"
        },
        {
          "output_type": "display_data",
          "data": {
            "text/html": [
              "<video alt=\"test\" autoplay \n",
              "                loop controls style=\"height: 400px;\">\n",
              "                <source src=\"data:video/mp4;base64,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\" type=\"video/mp4\" />\n",
              "             </video>"
            ],
            "text/plain": [
              "<IPython.core.display.HTML object>"
            ]
          },
          "metadata": {
            "tags": []
          }
        },
        {
          "output_type": "stream",
          "text": [
            "video/openaigym.video.0.126.video000060.mp4\n"
          ],
          "name": "stdout"
        },
        {
          "output_type": "display_data",
          "data": {
            "text/html": [
              "<video alt=\"test\" autoplay \n",
              "                loop controls style=\"height: 400px;\">\n",
              "                <source src=\"data:video/mp4;base64,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\" type=\"video/mp4\" />\n",
              "             </video>"
            ],
            "text/plain": [
              "<IPython.core.display.HTML object>"
            ]
          },
          "metadata": {
            "tags": []
          }
        },
        {
          "output_type": "stream",
          "text": [
            "video/openaigym.video.0.126.video000070.mp4\n"
          ],
          "name": "stdout"
        },
        {
          "output_type": "display_data",
          "data": {
            "text/html": [
              "<video alt=\"test\" autoplay \n",
              "                loop controls style=\"height: 400px;\">\n",
              "                <source src=\"data:video/mp4;base64,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\" type=\"video/mp4\" />\n",
              "             </video>"
            ],
            "text/plain": [
              "<IPython.core.display.HTML object>"
            ]
          },
          "metadata": {
            "tags": []
          }
        }
      ]
    },
    {
      "cell_type": "code",
      "metadata": {
        "id": "X6ze8DVGUB2v",
        "colab_type": "code",
        "outputId": "bf02de6e-34a1-4bd6-d767-3004cd8162c3",
        "colab": {
          "base_uri": "https://localhost:8080/",
          "height": 279
        }
      },
      "source": [
        "plt.plot(score)\n",
        "plt.xlabel(\"episodes\")\n",
        "plt.ylabel(\"score\")\n",
        "plt.show()"
      ],
      "execution_count": 0,
      "outputs": [
        {
          "output_type": "display_data",
          "data": {
            "image/png": "[encoded data removed]",
            "text/plain": [
              "<Figure size 432x288 with 1 Axes>"
            ]
          },
          "metadata": {
            "tags": []
          }
        }
      ]
    }
  ]
}