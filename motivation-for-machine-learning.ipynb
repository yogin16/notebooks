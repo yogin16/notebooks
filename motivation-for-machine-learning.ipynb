{
  "nbformat": 4,
  "nbformat_minor": 0,
  "metadata": {
    "colab": {
      "name": "Motivation for Machine Learning",
      "provenance": [],
      "toc_visible": true,
      "include_colab_link": true
    },
    "kernelspec": {
      "name": "python3",
      "display_name": "Python 3"
    }
  },
  "cells": [
    {
      "cell_type": "markdown",
      "metadata": {
        "id": "view-in-github",
        "colab_type": "text"
      },
      "source": [
        "<a href=\"https://colab.research.google.com/github/yogin16/notebooks/blob/master/motivation-for-machine-learning.ipynb\" target=\"_parent\"><img src=\"https://colab.research.google.com/assets/colab-badge.svg\" alt=\"Open In Colab\"/></a>"
      ]
    },
    {
      "cell_type": "markdown",
      "metadata": {
        "id": "N8Fdjwq3RVk4",
        "colab_type": "text"
      },
      "source": [
        "# Curve Fitting\n",
        "\n",
        "The goal of this article is to provide a little context on:\n",
        "\n",
        "- how the modern machine learning algorithms have grown\n",
        "- why machine learning is a good technique for many different applications and domains\n",
        "- why machine learning works (e.g., why a machine learns)\n",
        "\n",
        "For this introduction to machine learning, We will go through a toy example of curve fitting problem. We will first approach this problem using elementary algebra, the “old school” way, then we will solve it using machine learning with two different algorithms.\n",
        "\n",
        "## Problem\n",
        "\n",
        "We want to learn a function f(x) which maps the input x to the output y. For simplicity in this example let x,y belong to the set of real number R.\n",
        "\n",
        "Lets say we are given sample observations as follows:\n",
        "\n",
        "\n",
        "|x |y = f(x)|\n",
        "|--|--------|\n",
        "|1|\t21|\n",
        "|2|\t53|\n",
        "|3|\t101|\n",
        "|4|\t165|\n",
        "\n",
        "\n",
        "---\n",
        "\n",
        "\n"
      ]
    },
    {
      "cell_type": "markdown",
      "metadata": {
        "id": "p_-lPnTASDhy",
        "colab_type": "text"
      },
      "source": [
        "Our goal is to learn a function that maps points as best as possible. Once we learn this function we would be able to predict ŷ for any new input x.\n",
        "\n",
        "Learning in this context means:\n",
        "\n",
        "- to be able to fit the data to find relationships with various inputs\n",
        "- to be able to predict output for new input value"
      ]
    },
    {
      "cell_type": "markdown",
      "metadata": {
        "id": "rIs2RnJ5SHtq",
        "colab_type": "text"
      },
      "source": [
        "## Solving with Algebra\n",
        "\n",
        "Let’s plot the data points we have:\n",
        "\n",
        "![raw points](https://yogin16.github.io/assets/images/bare-points.png)\n",
        "\n",
        "When we try to fit these points with a line: we want to know the function that represents a line which would look like this:\n",
        "\n",
        "![linear](https://yogin16.github.io/assets/images/1st-order-curve.png)\n",
        "\n",
        "Because these are only 4 data points we get a feeling that the data is linear and we may be able to fit in the first order polynomial. But in fact the data is generated from the second order function. Original points belonged to the equation **y = 8*x^2 + 8*x + 5**\n",
        "\n",
        "So these would fit nicely when we try to with to second order polynomial:\n",
        "\n",
        "![2nd order](http://yogin16.github.io/assets/images/2nd-order-curve.png)\n",
        "\n"
      ]
    },
    {
      "cell_type": "code",
      "metadata": {
        "id": "xlN-LUy8S0Zx",
        "colab_type": "code",
        "colab": {}
      },
      "source": [
        "\"\"\"\n",
        "The code is implementation of techniques in this lecture: https://www.essie.ufl.edu/~kgurl/Classes/Lect3421/Fall_01/NM5_curve_f01.pdf\n",
        "\"\"\"\n",
        "import matplotlib.pyplot as plt\n",
        "import numpy as np\n",
        "\n",
        "def curve(X, Y, order):\n",
        "\tsigma_x=[]\n",
        "\tfor i in range(2*order + 1):\n",
        "\t\tif i==0:\n",
        "\t\t\tans=len(X)\n",
        "\t\telse:\n",
        "\t\t\tans=0\n",
        "\t\t\tfor x in X:\n",
        "\t\t\t\tans += x ** i\n",
        "\t\tsigma_x.append(ans)\n",
        "\tprint(sigma_x)\n",
        "\n",
        "\tsigma_xy=[]\n",
        "\tfor i in range(order + 1):\n",
        "\t\tans = 0\n",
        "\t\tfor index in range(len(Y)):\n",
        "\t\t\tx = X[index]\n",
        "\t\t\ty = Y[index]\n",
        "\t\t\tans += (x ** i)*y\n",
        "\t\tsigma_xy.append(ans)\n",
        "\tprint(sigma_xy)\n",
        "\n",
        "\tA=[]\n",
        "\tfor i in range(order + 1):\n",
        "\t\tA.append(sigma_x[i:(i + order + 1)])\n",
        "\n",
        "\tnumA = np.array(A)\n",
        "\tprint(numA)\n",
        "\tnumB = np.array(sigma_xy)\n",
        "\tcoeff = np.dot(np.linalg.inv(numA),numB)\n",
        "\tprint(coeff)\n",
        "\n",
        "\t## coeff matrix is our answer - creating sample data to plot the function for the polynomial below:\n",
        "\tsample_x = np.linspace(0,6,20)\n",
        "\tx_arr = []\n",
        "\tfor sample in sample_x:\n",
        "\t\tpol = []\n",
        "\t\tfor i in range(order + 1):\n",
        "\t\t\tpol.append(sample ** i)\n",
        "\t\tx_arr.append(pol)\n",
        "\tnumSampleX = np.array(x_arr)\n",
        "\tsample_y = np.dot(numSampleX, coeff)\n",
        "\tprint(sample_x)\n",
        "\tprint(sample_y)\n",
        "\n",
        "\tplt.plot(sample_x, sample_y)"
      ],
      "execution_count": 0,
      "outputs": []
    },
    {
      "cell_type": "code",
      "metadata": {
        "id": "VHCpMZhsS2u6",
        "colab_type": "code",
        "outputId": "66691a24-a6bb-40af-dad4-5b5de0349dbd",
        "colab": {
          "base_uri": "https://localhost:8080/",
          "height": 724
        }
      },
      "source": [
        "size = 4\n",
        "def generate_data(size):\n",
        "  x = np.array(np.random.rand(size,))\n",
        "  y = 8 * (x**2) + 8*x + 5\n",
        "  return x,y\n",
        "    \n",
        "X,Y = generate_data(size)\n",
        "\t\n",
        "order=2\n",
        "\n",
        "plt.plot(X, Y, 'ro')\n",
        "\t\n",
        "for i in range(1,order+1):\t\n",
        "  curve(X, Y, i)\n",
        "plt.show()\t"
      ],
      "execution_count": 0,
      "outputs": [
        {
          "output_type": "stream",
          "text": [
            "[4, 2.1403383441885944, 1.5239149401132281]\n",
            "[49.31402627441457, 32.864538508614174]\n",
            "[[4.         2.14033834]\n",
            " [2.14033834 1.52391494]]\n",
            "[ 3.17517024 17.10633528]\n",
            "[0.         0.31578947 0.63157895 0.94736842 1.26315789 1.57894737\n",
            " 1.89473684 2.21052632 2.52631579 2.84210526 3.15789474 3.47368421\n",
            " 3.78947368 4.10526316 4.42105263 4.73684211 5.05263158 5.36842105\n",
            " 5.68421053 6.        ]\n",
            "[  3.17517024   8.57717085  13.97917147  19.38117208  24.78317269\n",
            "  30.18517331  35.58717392  40.98917453  46.39117515  51.79317576\n",
            "  57.19517637  62.59717699  67.9991776   73.40117821  78.80317883\n",
            "  84.20517944  89.60718005  95.00918067 100.41118128 105.81318189]\n",
            "[4, 2.1403383441885944, 1.5239149401132281, 1.246440908345673, 1.0884988347203475]\n",
            "[49.31402627441457, 32.864538508614174, 26.299092645094305]\n",
            "[[4.         2.14033834 1.52391494]\n",
            " [2.14033834 1.52391494 1.24644091]\n",
            " [1.52391494 1.24644091 1.08849883]]\n",
            "[5. 8. 8.]\n",
            "[0.         0.31578947 0.63157895 0.94736842 1.26315789 1.57894737\n",
            " 1.89473684 2.21052632 2.52631579 2.84210526 3.15789474 3.47368421\n",
            " 3.78947368 4.10526316 4.42105263 4.73684211 5.05263158 5.36842105\n",
            " 5.68421053 6.        ]\n",
            "[  5.           8.32409972  13.24376731  19.75900277  27.86980609\n",
            "  37.57617729  48.87811634  61.77562327  76.26869806  92.35734072\n",
            " 110.04155125 129.32132964 150.1966759  172.66759003 196.73407202\n",
            " 222.39612188 249.65373961 278.50692521 308.95567867 341.        ]\n"
          ],
          "name": "stdout"
        },
        {
          "output_type": "display_data",
          "data": {
            "image/png": "[encoded data removed]",
            "text/plain": [
              "<Figure size 432x288 with 1 Axes>"
            ]
          },
          "metadata": {
            "tags": []
          }
        }
      ]
    },
    {
      "cell_type": "markdown",
      "metadata": {
        "id": "c8mQPOmqTKLZ",
        "colab_type": "text"
      },
      "source": [
        "## Solving with Gradient Descent Optimizer\n",
        "\n",
        "Above needed to use Matrix Inervse operation. Which may not be feasible all the time. Plus it a costly operation when we have lot of parameters.\n",
        "\n",
        "We are going to derive inspiration of error from linear algebra. We want to minimize that error to fit our data points. But we assume that here, we have many data points available for our functions. So imagine that rather having only four points for the (x,y) entry in the table we have say 10k of them from the same function. (This is the case for many real world example for machine learning tasks where we want to learn complex functions but have huge data set backing the mapping). However, we want to avoid matrix inverse operation.\n"
      ]
    },
    {
      "cell_type": "code",
      "metadata": {
        "id": "ps8ipve4TeP6",
        "colab_type": "code",
        "outputId": "467d9d7b-42e8-41a2-cc99-c9bf7587c101",
        "colab": {
          "base_uri": "https://localhost:8080/",
          "height": 514
        }
      },
      "source": [
        "import tensorflow as tf\n",
        "import numpy as np\n",
        "import matplotlib.pyplot as plt\n",
        "\n",
        "size = 10000\n",
        "def generate_data(size):\n",
        "    x = np.array(np.random.rand(size,))\n",
        "    y = 8 * (x**2) + 8*x + 5\n",
        "    return x,y\n",
        "    \n",
        "train_x,train_y = generate_data(size)\n",
        "\n",
        "x = tf.placeholder(tf.float32,shape=(None,))\n",
        "y = tf.placeholder(tf.float32,shape=(None,))\n",
        "    \n",
        "A = tf.Variable(np.random.normal(),dtype=tf.float32)\n",
        "B = tf.Variable(np.random.normal(),dtype=tf.float32)\n",
        "C = tf.Variable(np.random.normal(),dtype=tf.float32)\n",
        "p1 = tf.Variable(np.random.normal(),dtype=tf.float32)\n",
        "\n",
        "y_pred = A * x ** p1 + B * x + C\n",
        "loss = tf.reduce_mean(tf.square((y_pred - y)))\n",
        "optimizer = tf.train.AdamOptimizer(0.01).minimize(loss)\n",
        "iterations = 0\n",
        "loss_hist = []\n",
        "with tf.Session() as session:\n",
        "    session.run(tf.global_variables_initializer())\n",
        "    loss_val = 1000\n",
        "    while(loss_val > 0.000000001):\n",
        "        loss_val,_ = session.run([loss,optimizer],feed_dict={x:train_x,y:train_y})\n",
        "        iterations = iterations + 1\n",
        "        if iterations%5000 == 0:\n",
        "            print(iterations,\" \",loss_val)\n",
        "        loss_hist.append(loss_val)\n",
        "    print(\"After {} Iterations : \\n\".format(iterations))\n",
        "    print(\"Equation : \\t y = {:2f}x^{} + {}x + {}\".format(A.eval(),p1.eval(),B.eval(),C.eval()))\n",
        "    \n",
        "plt.plot(loss_hist)\n",
        "plt.xlabel(\"Iterations\")\n",
        "plt.ylabel(\"loss value\")\n",
        "plt.title(\"minimum loss : {}\".format(str(min(loss_hist))))\n",
        "plt.show()"
      ],
      "execution_count": 0,
      "outputs": [
        {
          "output_type": "display_data",
          "data": {
            "text/html": [
              "<p style=\"color: red;\">\n",
              "The default version of TensorFlow in Colab will soon switch to TensorFlow 2.x.<br>\n",
              "We recommend you <a href=\"https://www.tensorflow.org/guide/migrate\" target=\"_blank\">upgrade</a> now \n",
              "or ensure your notebook will continue to use TensorFlow 1.x via the <code>%tensorflow_version 1.x</code> magic:\n",
              "<a href=\"https://colab.research.google.com/notebooks/tensorflow_version.ipynb\" target=\"_blank\">more info</a>.</p>\n"
            ],
            "text/plain": [
              "<IPython.core.display.HTML object>"
            ]
          },
          "metadata": {
            "tags": []
          }
        },
        {
          "output_type": "stream",
          "text": [
            "WARNING:tensorflow:From /usr/local/lib/python3.6/dist-packages/tensorflow_core/python/ops/math_grad.py:1375: where (from tensorflow.python.ops.array_ops) is deprecated and will be removed in a future version.\n",
            "Instructions for updating:\n",
            "Use tf.where in 2.0, which has the same broadcast rule as np.where\n",
            "5000   0.00010633842\n",
            "10000   7.7350975e-05\n",
            "15000   4.538573e-06\n",
            "After 17810 Iterations : \n",
            "\n",
            "Equation : \t y = 7.998422x^2.0002636909484863 + 8.001748085021973x + 4.999871253967285\n"
          ],
          "name": "stdout"
        },
        {
          "output_type": "display_data",
          "data": {
            "image/png": "[encoded data removed]",
            "text/plain": [
              "<Figure size 432x288 with 1 Axes>"
            ]
          },
          "metadata": {
            "tags": []
          }
        }
      ]
    },
    {
      "cell_type": "markdown",
      "metadata": {
        "id": "BzaIGDB9TsiK",
        "colab_type": "text"
      },
      "source": [
        "After 17968 Iterations : \n",
        "\n",
        "It learns that the equation is:\n",
        "\n",
        "**y = 7.998426x^2.00026535987854 + 8.001739501953125x + 4.999870777130127**"
      ]
    },
    {
      "cell_type": "markdown",
      "metadata": {
        "id": "N1a7SUJ8T_V2",
        "colab_type": "text"
      },
      "source": [
        "## Solving with Neural Network\n",
        "\n",
        "We make improvements to gradient optimization and use neural network, a generic framework build upon combining many neurons, an inspiration from how a human brain might learn anything. Any function we want to learn is the combination of many connected layers (deep) and each layers is set of neurons. That is why this technique is called deep learning. Each neuron has an input and its own parameters governing whether to be active on the input."
      ]
    },
    {
      "cell_type": "code",
      "metadata": {
        "id": "c9iGkK6SUCp_",
        "colab_type": "code",
        "outputId": "e348ed34-f837-4c08-a6ce-835a6aa041e2",
        "colab": {
          "base_uri": "https://localhost:8080/",
          "height": 993
        }
      },
      "source": [
        "'''\n",
        "\tReferences used for learning\n",
        "\t\thttps://github.com/aymericdamien/TensorFlow-Examples\n",
        "\t\thttps://datascience.stackexchange.com/questions/20058/tensorflow-regression-using-deep-neural-network\n",
        "'''\n",
        "\n",
        "import tensorflow as tf\n",
        "import numpy as np\n",
        "import matplotlib.pyplot as plt\n",
        "\n",
        "size = 1000\n",
        "def generate_data(size):\n",
        "    x = np.array(np.random.rand(size,))\n",
        "    y = 8 * (x**2) + 8*x + 5\n",
        "    return np.transpose([x]),np.transpose([y])\n",
        "    \n",
        "vector_X,vector_Y = generate_data(size)\n",
        "\n",
        "# Network Parameters\n",
        "n_hidden_1 = 256 # 1st layer number of neurons\n",
        "n_hidden_2 = 256 # 2nd layer number of neurons\n",
        "num_input = 1\n",
        "num_classes = 1 \n",
        "\n",
        "# Parameters\n",
        "learning_rate = 0.0001\n",
        "num_steps = 400\n",
        "batch_size = 128\n",
        "display_step = 10\n",
        "\n",
        "# tf Graph input\n",
        "X = tf.placeholder(\"float\", [None, num_input])\n",
        "Y = tf.placeholder(\"float\", [None, num_classes])\n",
        "\n",
        "# Store layers weight & bias\n",
        "weights = {\n",
        "    'h1': tf.Variable(tf.random_normal([num_input, n_hidden_1])),\n",
        "    'h2': tf.Variable(tf.random_normal([n_hidden_1, n_hidden_2])),\n",
        "    'out': tf.Variable(tf.random_normal([n_hidden_2, num_classes]))\n",
        "}\n",
        "biases = {\n",
        "    'b1': tf.Variable(tf.random_normal([n_hidden_1])),\n",
        "    'b2': tf.Variable(tf.random_normal([n_hidden_2])),\n",
        "    'out': tf.Variable(tf.random_normal([num_classes]))\n",
        "}\n",
        "\n",
        "# Create model\n",
        "def neural_net(x):\n",
        "    # Hidden fully connected layer with 256 neurons\n",
        "    layer_1 = tf.add(tf.matmul(x, weights['h1']), biases['b1'])\n",
        "    layer_1 = tf.nn.relu(layer_1)\n",
        "    # Hidden fully connected layer with 256 neurons\n",
        "    layer_2 = tf.add(tf.matmul(layer_1, weights['h2']), biases['b2'])\n",
        "    layer_2 = tf.nn.relu(layer_2)\n",
        "    # Output fully connected layer with a neuron for each class\n",
        "    out_layer = tf.matmul(layer_2, weights['out']) + biases['out']\n",
        "    return out_layer\n",
        "\n",
        "# Construct model\n",
        "prediction = neural_net(X)\n",
        "\n",
        "# Define cost and optimizer\n",
        "loss = tf.reduce_mean(tf.square((prediction - Y)))\n",
        "optimizer = tf.train.AdamOptimizer(learning_rate=learning_rate).minimize(loss)\n",
        "\n",
        "plotValues = []\n",
        "with tf.Session() as sess:\n",
        "    sess.run(tf.global_variables_initializer())\n",
        "    for step in range(1, num_steps+1):\n",
        "        loss_val,_ = sess.run([loss, optimizer], feed_dict={X: vector_X,Y: vector_Y})\n",
        "        plotValues.append(loss_val)\n",
        "        if step % display_step == 0 or step == 1:\n",
        "            print(\"Step \" + str(step) + \", Loss= \" + \"{:.4f}\".format(loss_val))\n",
        "    print(\"Optimization Finished!\")\n",
        "\n",
        "plt.plot(plotValues)\n",
        "plt.xlabel(\"Iterations\")\n",
        "plt.ylabel(\"cost\")\n",
        "plt.show()"
      ],
      "execution_count": 0,
      "outputs": [
        {
          "output_type": "stream",
          "text": [
            "Step 1, Loss= 319.3072\n",
            "Step 10, Loss= 189.3379\n",
            "Step 20, Loss= 92.5650\n",
            "Step 30, Loss= 39.2553\n",
            "Step 40, Loss= 16.8499\n",
            "Step 50, Loss= 10.0269\n",
            "Step 60, Loss= 8.0548\n",
            "Step 70, Loss= 6.7787\n",
            "Step 80, Loss= 5.6844\n",
            "Step 90, Loss= 4.9294\n",
            "Step 100, Loss= 4.4424\n",
            "Step 110, Loss= 4.0748\n",
            "Step 120, Loss= 3.7563\n",
            "Step 130, Loss= 3.4709\n",
            "Step 140, Loss= 3.2086\n",
            "Step 150, Loss= 2.9643\n",
            "Step 160, Loss= 2.7371\n",
            "Step 170, Loss= 2.5279\n",
            "Step 180, Loss= 2.3350\n",
            "Step 190, Loss= 2.1585\n",
            "Step 200, Loss= 1.9966\n",
            "Step 210, Loss= 1.8481\n",
            "Step 220, Loss= 1.7126\n",
            "Step 230, Loss= 1.5884\n",
            "Step 240, Loss= 1.4743\n",
            "Step 250, Loss= 1.3699\n",
            "Step 260, Loss= 1.2751\n",
            "Step 270, Loss= 1.1901\n",
            "Step 280, Loss= 1.1141\n",
            "Step 290, Loss= 1.0463\n",
            "Step 300, Loss= 0.9859\n",
            "Step 310, Loss= 0.9323\n",
            "Step 320, Loss= 0.8848\n",
            "Step 330, Loss= 0.8424\n",
            "Step 340, Loss= 0.8044\n",
            "Step 350, Loss= 0.7703\n",
            "Step 360, Loss= 0.7395\n",
            "Step 370, Loss= 0.7112\n",
            "Step 380, Loss= 0.6852\n",
            "Step 390, Loss= 0.6610\n",
            "Step 400, Loss= 0.6383\n",
            "Optimization Finished!\n"
          ],
          "name": "stdout"
        },
        {
          "output_type": "display_data",
          "data": {
            "image/png": "[encoded data removed]",
            "text/plain": [
              "<Figure size 432x288 with 1 Axes>"
            ]
          },
          "metadata": {
            "tags": []
          }
        }
      ]
    },
    {
      "cell_type": "markdown",
      "metadata": {
        "id": "_5eXD3z9UND1",
        "colab_type": "text"
      },
      "source": [
        "### Benefits of above approach\n",
        "\n",
        "- Notice here we are not specifying anything about function being polynomial.\n",
        "- Function is just combination of neuron layers.\n",
        "- No feature engineering needed because it learns that.\n",
        "- Non-linearity is added in each neuron computation based on which a neuron decides to activate itself.\n",
        "- We can model complex functions with as many as millions of parameters to learn by increasing the number of layers and the number of neurons in each layer."
      ]
    }
  ]
}