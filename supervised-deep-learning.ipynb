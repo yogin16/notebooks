{
  "nbformat": 4,
  "nbformat_minor": 0,
  "metadata": {
    "colab": {
      "name": "IMDB Sentiment Training - Example of Supervised Deep Learning",
      "provenance": [],
      "toc_visible": true,
      "include_colab_link": true
    },
    "kernelspec": {
      "name": "python3",
      "display_name": "Python 3"
    }
  },
  "cells": [
    {
      "cell_type": "markdown",
      "metadata": {
        "id": "view-in-github",
        "colab_type": "text"
      },
      "source": [
        "<a href=\"https://colab.research.google.com/github/yogin16/notebooks/blob/master/supervised%20deep%20learning.ipynb\" target=\"_parent\"><img src=\"https://colab.research.google.com/assets/colab-badge.svg\" alt=\"Open In Colab\"/></a>"
      ]
    },
    {
      "cell_type": "markdown",
      "metadata": {
        "id": "lemrZyIdHYjG",
        "colab_type": "text"
      },
      "source": [
        "# Sentiment Training\n",
        "This notebook demonstrates the process of a supervised deep learning training using Recurrent Neural Network(RNN) for the sentiment detection task.\n",
        "\n",
        "For this task we are using IMDB movie reviews data. This dataset contains movie reviews along with their associated binary sentiment polarity labels. (`positive` or `negative`)\n",
        "It has 25000 training samples and 25000 validation samples.\n",
        "\n",
        "Our goal is to prepare the model to predict the sentiment of a movie review."
      ]
    },
    {
      "cell_type": "markdown",
      "metadata": {
        "id": "vjDNfz3MI3MC",
        "colab_type": "text"
      },
      "source": [
        "## Imports\n",
        "We are using Keras with TensorFlow to build our NN."
      ]
    },
    {
      "cell_type": "markdown",
      "metadata": {
        "id": "5Fsa3z0xu156",
        "colab_type": "text"
      },
      "source": [
        ""
      ]
    },
    {
      "cell_type": "code",
      "metadata": {
        "id": "lCSKfGBc8dgv",
        "colab_type": "code",
        "outputId": "ac56508e-ed53-49ef-d9dc-d8c28b6a3a11",
        "colab": {
          "base_uri": "https://localhost:8080/",
          "height": 80
        }
      },
      "source": [
        "from keras.preprocessing import sequence\n",
        "from keras.models import Sequential\n",
        "from keras.layers import Dense, Embedding\n",
        "from keras.layers import LSTM\n",
        "from keras.datasets import imdb\n",
        "\n",
        "import pandas as pd\n",
        "import matplotlib.pyplot as plt\n",
        "import seaborn as sns"
      ],
      "execution_count": 0,
      "outputs": [
        {
          "output_type": "stream",
          "text": [
            "Using TensorFlow backend.\n"
          ],
          "name": "stderr"
        },
        {
          "output_type": "display_data",
          "data": {
            "text/html": [
              "<p style=\"color: red;\">\n",
              "The default version of TensorFlow in Colab will soon switch to TensorFlow 2.x.<br>\n",
              "We recommend you <a href=\"https://www.tensorflow.org/guide/migrate\" target=\"_blank\">upgrade</a> now \n",
              "or ensure your notebook will continue to use TensorFlow 1.x via the <code>%tensorflow_version 1.x</code> magic:\n",
              "<a href=\"https://colab.research.google.com/notebooks/tensorflow_version.ipynb\" target=\"_blank\">more info</a>.</p>\n"
            ],
            "text/plain": [
              "<IPython.core.display.HTML object>"
            ]
          },
          "metadata": {
            "tags": []
          }
        }
      ]
    },
    {
      "cell_type": "code",
      "metadata": {
        "id": "2AkXMkICht_5",
        "colab_type": "code",
        "colab": {}
      },
      "source": [
        "# supressing extra logging\n",
        "import os\n",
        "os.environ['TF_CPP_MIN_LOG_LEVEL'] = '3'\n",
        "import tensorflow as tf\n",
        "tf.compat.v1.logging.set_verbosity(tf.compat.v1.logging.ERROR)"
      ],
      "execution_count": 0,
      "outputs": []
    },
    {
      "cell_type": "markdown",
      "metadata": {
        "id": "5T2rD4ObJEbK",
        "colab_type": "text"
      },
      "source": [
        "## Hyperparameters\n",
        "Tune here about the model's hyperparams.\n",
        "\n",
        "`max_features`: Controls the size of vocab. It considers these many number of most common words.\n",
        "\n",
        "`maxlen`: If the review is more that `maxlen` words - it will trim. (and pad if less than)\n",
        "\n",
        "`batch_size`: MiniBatch size. This can control the speed of training."
      ]
    },
    {
      "cell_type": "code",
      "metadata": {
        "id": "W0WCJ8B880s6",
        "colab_type": "code",
        "colab": {}
      },
      "source": [
        "max_features = 20000 #(among top max_features most common words)\n",
        "maxlen = 80\n",
        "batch_size = 32\n",
        "\n",
        "index_from = 3 # word index offset - to use <PAD> <START> <UNK>"
      ],
      "execution_count": 0,
      "outputs": []
    },
    {
      "cell_type": "markdown",
      "metadata": {
        "id": "wwrCtYP6KpIW",
        "colab_type": "text"
      },
      "source": [
        "## Load Dataset"
      ]
    },
    {
      "cell_type": "code",
      "metadata": {
        "id": "g01DGGPQ8ppY",
        "colab_type": "code",
        "outputId": "3c0f22f1-be59-44cd-9cf3-a30720313ede",
        "colab": {
          "base_uri": "https://localhost:8080/",
          "height": 102
        }
      },
      "source": [
        "print('Loading data...')\n",
        "(x_train, y_train), (x_test, y_test) = imdb.load_data(num_words=max_features, index_from=index_from)\n",
        "print(len(x_train), 'train sequences')\n",
        "print(len(x_test), 'test sequences')"
      ],
      "execution_count": 0,
      "outputs": [
        {
          "output_type": "stream",
          "text": [
            "Loading data...\n",
            "Downloading data from https://s3.amazonaws.com/text-datasets/imdb.npz\n",
            "17465344/17464789 [==============================] - 0s 0us/step\n",
            "25000 train sequences\n",
            "25000 test sequences\n"
          ],
          "name": "stdout"
        }
      ]
    },
    {
      "cell_type": "code",
      "metadata": {
        "id": "NkLnOJyf8z91",
        "colab_type": "code",
        "outputId": "1a264a60-5bb6-452a-81c7-bce1e34fe68a",
        "colab": {
          "base_uri": "https://localhost:8080/",
          "height": 51
        }
      },
      "source": [
        "word_to_id = imdb.get_word_index()\n",
        "word_to_id = {k:(v+index_from) for k,v in word_to_id.items()}\n",
        "word_to_id[\"<PAD>\"] = 0\n",
        "word_to_id[\"<START>\"] = 1\n",
        "word_to_id[\"<UNK>\"] = 2\n",
        "word_to_id[\"<UNUSED>\"] = 3\n",
        "\n",
        "id_to_word = {value:key for key,value in word_to_id.items()}"
      ],
      "execution_count": 0,
      "outputs": [
        {
          "output_type": "stream",
          "text": [
            "Downloading data from https://s3.amazonaws.com/text-datasets/imdb_word_index.json\n",
            "1646592/1641221 [==============================] - 0s 0us/step\n"
          ],
          "name": "stdout"
        }
      ]
    },
    {
      "cell_type": "code",
      "metadata": {
        "id": "KuVtOwhM-4Zu",
        "colab_type": "code",
        "colab": {}
      },
      "source": [
        "train_df = pd.DataFrame({\"text\":[' '.join(id_to_word[wid] for wid in x ) for x in x_train], \"sentiment_score\":[y for y in y_train]})\n",
        "train_df = train_df.sample(frac=1).reset_index(drop=True)\n",
        "\n",
        "test_df = pd.DataFrame({\"text\":[' '.join(id_to_word[wid] for wid in x ) for x in x_test], \"sentiment_score\":[y for y in y_test]})\n",
        "test_df = test_df.sample(frac=1).reset_index(drop=True)"
      ],
      "execution_count": 0,
      "outputs": []
    },
    {
      "cell_type": "markdown",
      "metadata": {
        "id": "sUqKSxgmKwfj",
        "colab_type": "text"
      },
      "source": [
        "## Sample of dataset\n",
        "`sentiment_score` 0 represents `negative` sample. 1 represents `positive`.\n",
        "\n",
        "Also, as you can see we have done some preprocessing as well for example addition of `<UNK>` token to handle out of vocabulary words."
      ]
    },
    {
      "cell_type": "code",
      "metadata": {
        "id": "u7umpyCP-_3L",
        "colab_type": "code",
        "outputId": "9bd8cd88-a298-4dce-9aa0-2ed0b8e890c1",
        "colab": {
          "base_uri": "https://localhost:8080/",
          "height": 204
        }
      },
      "source": [
        "train_df.head()"
      ],
      "execution_count": 0,
      "outputs": [
        {
          "output_type": "execute_result",
          "data": {
            "text/html": [
              "<div>\n",
              "<style scoped>\n",
              "    .dataframe tbody tr th:only-of-type {\n",
              "        vertical-align: middle;\n",
              "    }\n",
              "\n",
              "    .dataframe tbody tr th {\n",
              "        vertical-align: top;\n",
              "    }\n",
              "\n",
              "    .dataframe thead th {\n",
              "        text-align: right;\n",
              "    }\n",
              "</style>\n",
              "<table border=\"1\" class=\"dataframe\">\n",
              "  <thead>\n",
              "    <tr style=\"text-align: right;\">\n",
              "      <th></th>\n",
              "      <th>text</th>\n",
              "      <th>sentiment_score</th>\n",
              "    </tr>\n",
              "  </thead>\n",
              "  <tbody>\n",
              "    <tr>\n",
              "      <th>0</th>\n",
              "      <td>&lt;START&gt; i have no clue as to what this was sho...</td>\n",
              "      <td>0</td>\n",
              "    </tr>\n",
              "    <tr>\n",
              "      <th>1</th>\n",
              "      <td>&lt;START&gt; had some lovely poetic bits but is rea...</td>\n",
              "      <td>0</td>\n",
              "    </tr>\n",
              "    <tr>\n",
              "      <th>2</th>\n",
              "      <td>&lt;START&gt; spoiler do not read this if you think ...</td>\n",
              "      <td>0</td>\n",
              "    </tr>\n",
              "    <tr>\n",
              "      <th>3</th>\n",
              "      <td>&lt;START&gt; although i can see the potentially red...</td>\n",
              "      <td>0</td>\n",
              "    </tr>\n",
              "    <tr>\n",
              "      <th>4</th>\n",
              "      <td>&lt;START&gt; the bible teaches us that the love of ...</td>\n",
              "      <td>1</td>\n",
              "    </tr>\n",
              "  </tbody>\n",
              "</table>\n",
              "</div>"
            ],
            "text/plain": [
              "                                                text  sentiment_score\n",
              "0  <START> i have no clue as to what this was sho...                0\n",
              "1  <START> had some lovely poetic bits but is rea...                0\n",
              "2  <START> spoiler do not read this if you think ...                0\n",
              "3  <START> although i can see the potentially red...                0\n",
              "4  <START> the bible teaches us that the love of ...                1"
            ]
          },
          "metadata": {
            "tags": []
          },
          "execution_count": 7
        }
      ]
    },
    {
      "cell_type": "code",
      "metadata": {
        "id": "k3pRQuuQ_dQr",
        "colab_type": "code",
        "colab": {}
      },
      "source": [
        "def print_sample(index):\n",
        "  print(\"x: \" + train_df['text'][index])\n",
        "  print(\"y: \" + str(train_df['sentiment_score'][index]))\n",
        " "
      ],
      "execution_count": 0,
      "outputs": []
    },
    {
      "cell_type": "markdown",
      "metadata": {
        "id": "Fw4t503MLSbw",
        "colab_type": "text"
      },
      "source": [
        "If you want to inspect a particular sample please go ahead and give a random index between (0,24999) to see how it looks like.\n"
      ]
    },
    {
      "cell_type": "code",
      "metadata": {
        "id": "Zhcjmfhw_3MJ",
        "colab_type": "code",
        "outputId": "d70602ba-3f02-4b64-e9d2-bdcacf7696cf",
        "colab": {
          "base_uri": "https://localhost:8080/",
          "height": 71
        }
      },
      "source": [
        "print_sample(4)"
      ],
      "execution_count": 0,
      "outputs": [
        {
          "output_type": "stream",
          "text": [
            "x: <START> the bible teaches us that the love of money is the root of all evil the love of money leads to greed which can lead to pride and eventually to destruction two brothers andy and hank will discover how far the love of money will cost them and those they love the most br br andy hanson philip seymour hoffman and his younger brother hank ethan hawke couldn't be more different andy is seemingly enjoying the success of working in new york's real estate market and is married to his beautiful wife gina marisa tomei who is the idea of a trophy wife if one ever existed hank however is <UNK> who finds himself at the mercy of his ex wife his daughter's expensive school bills and endless amount of child support <UNK> a man who means well and has good intentions hank none the less cannot escape the water that his slowly raising above his head no matter how hard he <UNK> to stay above it br br however andy has his own problems with the only difference between him and his brother being that he hides them better he has committed fraud against his company and is heavily involved in drug use in order to escape his fears the pressure of his life and the lies he needs to keep his appearances up have now caused him to think about fleeing the country with gina in order to start over again of course like hank he needs money to do this and believes he knows how to get it how by robbing the <UNK> store that their parents own and run this act of betrayal is where the hanson brothers their families and several other lives will be destroyed because of greed pride and fear br br the uniqueness of before the devil knows you're dead is the manner in which the story is told after the robbery goes wrong and nanette hanson rosemary harris who is the mother of both andy and hank is killed the story is told from a variety of different points of view from various days before and after the robbery attempt we learn more about the motivations of not only andy and hank but also the reaction to their father charles albert finney to the death of his wife the relationship between charles and his two sons especially to andy is also explored and another possible motivation of sorts is discovered after it is revealed that there is little love between the two men nanette may have been dearly loved by her sons but their father is a different story br br philip seymour hoffman proves once more why he is one of the most impressive actors in hollywood today by portraying andy as not only a greedy criminal with lack of morality but also in contradictory way as a man we can sympathize with ethan hawke also brings hank alive not just as a loser but really as a man just desperate to hang on to what little he has left andy and hank are thus brought to life in such a realistic way that it is easy to think of them as not just characters but the very real images of lost and confused men who now find themselves facing the consequence of their actions br br before the devil knows you're dead is a moral tale about how our actions lead to consequences that we otherwise might not expect to face more than that our choices also can affect those around us in ways we never expected in what should have been best picture of the year we see how lives are easily broken when the love of money becomes the ultimate pursuit in order to ease our troubled lives in other words there are no easy <UNK> or answers to our problems and trying to find them can only make things worse br br 10 10\n",
            "y: 1\n"
          ],
          "name": "stdout"
        }
      ]
    },
    {
      "cell_type": "markdown",
      "metadata": {
        "id": "8ev1M85KLkEh",
        "colab_type": "text"
      },
      "source": [
        "## Histogram plot of labels\n",
        "Out training dataset is a standart benchmark dataset used in any sentiment analysis task. So, it is smartly prepared. It has equal distribution of `positive` and `negative` samples."
      ]
    },
    {
      "cell_type": "code",
      "metadata": {
        "id": "qcXRdnVffw6E",
        "colab_type": "code",
        "outputId": "7d3e9fbc-ecf8-46cb-f107-74ea85340204",
        "colab": {
          "base_uri": "https://localhost:8080/",
          "height": 282
        }
      },
      "source": [
        "train_df.plot.hist('sentiment_score', bins=3)"
      ],
      "execution_count": 0,
      "outputs": [
        {
          "output_type": "execute_result",
          "data": {
            "text/plain": [
              "<matplotlib.axes._subplots.AxesSubplot at 0x7f8f8b858080>"
            ]
          },
          "metadata": {
            "tags": []
          },
          "execution_count": 10
        },
        {
          "output_type": "display_data",
          "data": {
            "image/png": "[encoded data removed]",
            "text/plain": [
              "<Figure size 432x288 with 1 Axes>"
            ]
          },
          "metadata": {
            "tags": []
          }
        }
      ]
    },
    {
      "cell_type": "code",
      "metadata": {
        "id": "3i8czgwbKpwR",
        "colab_type": "code",
        "outputId": "5cb8556c-9a43-48fa-bb78-be6cece10140",
        "colab": {
          "base_uri": "https://localhost:8080/",
          "height": 68
        }
      },
      "source": [
        "print('Pad sequences (samples x time)')\n",
        "x_train = sequence.pad_sequences(x_train, maxlen=maxlen)\n",
        "x_test = sequence.pad_sequences(x_test, maxlen=maxlen)\n",
        "print('x_train shape:', x_train.shape)\n",
        "print('x_test shape:', x_test.shape)"
      ],
      "execution_count": 0,
      "outputs": [
        {
          "output_type": "stream",
          "text": [
            "Pad sequences (samples x time)\n",
            "x_train shape: (25000, 80)\n",
            "x_test shape: (25000, 80)\n"
          ],
          "name": "stdout"
        }
      ]
    },
    {
      "cell_type": "markdown",
      "metadata": {
        "id": "48tHdFnwL9GV",
        "colab_type": "text"
      },
      "source": [
        "## Model\n",
        "\n",
        "We are now ready with our dataset. And ready to build model to train on this data."
      ]
    },
    {
      "cell_type": "code",
      "metadata": {
        "id": "HY1x0JkmKuwq",
        "colab_type": "code",
        "outputId": "d7429998-9918-4bd6-faf3-756d7f80e458",
        "colab": {
          "base_uri": "https://localhost:8080/",
          "height": 34
        }
      },
      "source": [
        "print('Build model...')\n",
        "model = Sequential()\n",
        "model.add(Embedding(max_features, 128))\n",
        "model.add(LSTM(128, dropout=0.2, recurrent_dropout=0.2))\n",
        "model.add(Dense(1, activation='sigmoid'))\n"
      ],
      "execution_count": 0,
      "outputs": [
        {
          "output_type": "stream",
          "text": [
            "Build model...\n"
          ],
          "name": "stdout"
        }
      ]
    },
    {
      "cell_type": "code",
      "metadata": {
        "id": "2q1JY5GFKxKL",
        "colab_type": "code",
        "colab": {}
      },
      "source": [
        "# try using different optimizers and different optimizer configs\n",
        "model.compile(loss='binary_crossentropy',\n",
        "              optimizer='adam',\n",
        "              metrics=['accuracy'])"
      ],
      "execution_count": 0,
      "outputs": []
    },
    {
      "cell_type": "code",
      "metadata": {
        "id": "UHfKnXQRjWDF",
        "colab_type": "code",
        "outputId": "417a8aae-a65b-4a84-ff7f-50e82f8fe41a",
        "colab": {
          "base_uri": "https://localhost:8080/",
          "height": 255
        }
      },
      "source": [
        "model.summary()"
      ],
      "execution_count": 0,
      "outputs": [
        {
          "output_type": "stream",
          "text": [
            "Model: \"sequential_1\"\n",
            "_________________________________________________________________\n",
            "Layer (type)                 Output Shape              Param #   \n",
            "=================================================================\n",
            "embedding_1 (Embedding)      (None, None, 128)         2560000   \n",
            "_________________________________________________________________\n",
            "lstm_1 (LSTM)                (None, 128)               131584    \n",
            "_________________________________________________________________\n",
            "dense_1 (Dense)              (None, 1)                 129       \n",
            "=================================================================\n",
            "Total params: 2,691,713\n",
            "Trainable params: 2,691,713\n",
            "Non-trainable params: 0\n",
            "_________________________________________________________________\n"
          ],
          "name": "stdout"
        }
      ]
    },
    {
      "cell_type": "markdown",
      "metadata": {
        "id": "kxK_CIAcMNpH",
        "colab_type": "text"
      },
      "source": [
        "## Model Training\n",
        "Model is prepared. Below cell would initiate training. Ideally for this IMDB dataset and with our model architecture it takes around 12-15 epochs to converge. But to save time and just to demo - we are restricting the training here to 2 epochs. (which whould take around 5 mins to complete)"
      ]
    },
    {
      "cell_type": "code",
      "metadata": {
        "id": "ifa-z3TlK2hV",
        "colab_type": "code",
        "outputId": "6308bb4a-465b-4fdb-e972-ce60301d3003",
        "colab": {
          "base_uri": "https://localhost:8080/",
          "height": 139
        }
      },
      "source": [
        "print('Train...')\n",
        "history = model.fit(x_train, y_train,\n",
        "                    batch_size=batch_size,\n",
        "                    epochs=2,\n",
        "                    validation_data=(x_test, y_test))"
      ],
      "execution_count": 0,
      "outputs": [
        {
          "output_type": "stream",
          "text": [
            "Train...\n",
            "Train on 25000 samples, validate on 25000 samples\n",
            "Epoch 1/2\n",
            "25000/25000 [==============================] - 164s 7ms/step - loss: 0.4688 - acc: 0.7724 - val_loss: 0.4095 - val_acc: 0.8220\n",
            "Epoch 2/2\n",
            "25000/25000 [==============================] - 163s 7ms/step - loss: 0.2989 - acc: 0.8804 - val_loss: 0.3794 - val_acc: 0.8372\n"
          ],
          "name": "stdout"
        }
      ]
    },
    {
      "cell_type": "code",
      "metadata": {
        "id": "1IssUB2RLKDp",
        "colab_type": "code",
        "outputId": "5193fec5-b0de-4816-f4be-4a0b7437f2f7",
        "colab": {
          "base_uri": "https://localhost:8080/",
          "height": 68
        }
      },
      "source": [
        "score, acc = model.evaluate(x_test, y_test,\n",
        "                            batch_size=batch_size)\n",
        "print('Test score:', score)\n",
        "print('Test accuracy:', acc)"
      ],
      "execution_count": 0,
      "outputs": [
        {
          "output_type": "stream",
          "text": [
            "25000/25000 [==============================] - 22s 895us/step\n",
            "Test score: 0.37943297105789187\n",
            "Test accuracy: 0.8372\n"
          ],
          "name": "stdout"
        }
      ]
    },
    {
      "cell_type": "markdown",
      "metadata": {
        "id": "z7-XwhvNMvU3",
        "colab_type": "text"
      },
      "source": [
        "We can see that in given epochs what is the trend of `accuracy` and `loss`."
      ]
    },
    {
      "cell_type": "code",
      "metadata": {
        "id": "dAbcKrWHlw4z",
        "colab_type": "code",
        "outputId": "4be67947-7678-44ca-8695-184c44c945c8",
        "colab": {
          "base_uri": "https://localhost:8080/",
          "height": 573
        }
      },
      "source": [
        "#  \"Accuracy\"\n",
        "plt.plot(history.history['acc'])\n",
        "plt.plot(history.history['val_acc'])\n",
        "plt.title('model accuracy')\n",
        "plt.ylabel('accuracy')\n",
        "plt.xlabel('epoch')\n",
        "plt.legend(['train', 'validation'], loc='upper left')\n",
        "plt.show()\n",
        "# \"Loss\"\n",
        "plt.plot(history.history['loss'])\n",
        "plt.plot(history.history['val_loss'])\n",
        "plt.title('model loss')\n",
        "plt.ylabel('loss')\n",
        "plt.xlabel('epoch')\n",
        "plt.legend(['train', 'validation'], loc='upper left')\n",
        "plt.show()"
      ],
      "execution_count": 0,
      "outputs": [
        {
          "output_type": "display_data",
          "data": {
            "image/png": "[encoded data removed]",
            "text/plain": [
              "<Figure size 432x288 with 1 Axes>"
            ]
          },
          "metadata": {
            "tags": []
          }
        },
        {
          "output_type": "display_data",
          "data": {
            "image/png": "[encoded data removed]",
            "text/plain": [
              "<Figure size 432x288 with 1 Axes>"
            ]
          },
          "metadata": {
            "tags": []
          }
        }
      ]
    },
    {
      "cell_type": "markdown",
      "metadata": {
        "id": "aTjBn2G4AnKe",
        "colab_type": "text"
      },
      "source": [
        "# Confusion Metrix\n",
        "We just have two labels here so our confusion metrix is relatively smaller.\n",
        "\n",
        "Please note that we have just trained 2 epochs (for demo) so this model is not really to it's full potential - so there can be high confusion. But here is how we can understand model's confusion."
      ]
    },
    {
      "cell_type": "code",
      "metadata": {
        "id": "q2o6WLyNBIti",
        "colab_type": "code",
        "colab": {}
      },
      "source": [
        "import numpy as np\n",
        "import sklearn.metrics as metrics\n",
        "\n",
        "y_pred = model.predict(x_test)\n",
        "y_pred_labels = np.where(y_pred >= 0.5, 1, 0).flatten()\n",
        "\n",
        "confusion_matrix = metrics.confusion_matrix(y_true=y_test, y_pred=y_pred_labels)"
      ],
      "execution_count": 0,
      "outputs": []
    },
    {
      "cell_type": "code",
      "metadata": {
        "id": "1kB5DeqpDBfU",
        "colab_type": "code",
        "outputId": "2defc864-6abd-4a2d-ef1a-6301fba35c08",
        "colab": {
          "base_uri": "https://localhost:8080/",
          "height": 51
        }
      },
      "source": [
        "confusion_matrix"
      ],
      "execution_count": 0,
      "outputs": [
        {
          "output_type": "execute_result",
          "data": {
            "text/plain": [
              "array([[10334,  2166],\n",
              "       [ 1904, 10596]])"
            ]
          },
          "metadata": {
            "tags": []
          },
          "execution_count": 19
        }
      ]
    },
    {
      "cell_type": "code",
      "metadata": {
        "id": "rcX6dNyxErje",
        "colab_type": "code",
        "colab": {}
      },
      "source": [
        "def print_confusion_matrix(confusion_matrix, class_names, figsize = (10,7), fontsize=4):\n",
        "    \"\"\"Prints a confusion matrix, as returned by sklearn.metrics.confusion_matrix, as a heatmap.\n",
        "    \n",
        "    Arguments\n",
        "    ---------\n",
        "    confusion_matrix: numpy.ndarray\n",
        "        The numpy.ndarray object returned from a call to sklearn.metrics.confusion_matrix. \n",
        "        Similarly constructed ndarrays can also be used.\n",
        "    class_names: list\n",
        "        An ordered list of class names, in the order they index the given confusion matrix.\n",
        "    figsize: tuple\n",
        "        A 2-long tuple, the first value determining the horizontal size of the ouputted figure,\n",
        "        the second determining the vertical size. Defaults to (10,7).\n",
        "    fontsize: int\n",
        "        Font size for axes labels. Defaults to 14.\n",
        "        \n",
        "    Returns\n",
        "    -------\n",
        "    matplotlib.figure.Figure\n",
        "        The resulting confusion matrix figure\n",
        "    \"\"\"\n",
        "    df_cm = pd.DataFrame(\n",
        "        confusion_matrix, index=class_names, columns=class_names, \n",
        "    )\n",
        "    fig = plt.figure(figsize=figsize)\n",
        "    try:\n",
        "        heatmap = sns.heatmap(df_cm, annot=True, fmt=\"d\")\n",
        "    except ValueError:\n",
        "        raise ValueError(\"Confusion matrix values must be integers.\")\n",
        "    heatmap.yaxis.set_ticklabels(heatmap.yaxis.get_ticklabels(), rotation=0, ha='right', fontsize=fontsize)\n",
        "    heatmap.xaxis.set_ticklabels(heatmap.xaxis.get_ticklabels(), rotation=45, ha='right', fontsize=fontsize)\n",
        "    plt.ylabel('True label')\n",
        "    plt.xlabel('Predicted label')"
      ],
      "execution_count": 0,
      "outputs": []
    },
    {
      "cell_type": "code",
      "metadata": {
        "id": "M5dk2fMyE_mH",
        "colab_type": "code",
        "outputId": "e13ca048-ceca-4265-edc5-e5b0a3172b00",
        "colab": {
          "base_uri": "https://localhost:8080/",
          "height": 453
        }
      },
      "source": [
        "print_confusion_matrix(confusion_matrix, [\"negative\", \"positive\"])"
      ],
      "execution_count": 0,
      "outputs": [
        {
          "output_type": "display_data",
          "data": {
            "image/png": "[encoded data removed]",
            "text/plain": [
              "<Figure size 720x504 with 2 Axes>"
            ]
          },
          "metadata": {
            "tags": []
          }
        }
      ]
    },
    {
      "cell_type": "markdown",
      "metadata": {
        "id": "GY-I43ikGFav",
        "colab_type": "text"
      },
      "source": [
        "# Prediction\n",
        "\n",
        "We can test on a new review for testing model"
      ]
    },
    {
      "cell_type": "code",
      "metadata": {
        "id": "kHBCTdKOK4Gi",
        "colab_type": "code",
        "colab": {}
      },
      "source": [
        "def predict(text):\n",
        "  text_input=[word_to_id[word] if word in word_to_id else word_to_id[\"<UNK>\"] for word in text.split(\" \")]\n",
        "  padded_input = sequence.pad_sequences([text_input], maxlen=maxlen)\n",
        "  pred=model.predict(padded_input)\n",
        "  pred=np.where(pred >= 0.5, \"positive\", \"negative\").flatten()\n",
        "  prediction = pred[0]\n",
        "  return prediction"
      ],
      "execution_count": 0,
      "outputs": []
    },
    {
      "cell_type": "markdown",
      "metadata": {
        "id": "e-FUBzrwxbpZ",
        "colab_type": "text"
      },
      "source": [
        "# New Section"
      ]
    },
    {
      "cell_type": "code",
      "metadata": {
        "id": "i74RR6eAGMSL",
        "colab_type": "code",
        "colab": {}
      },
      "source": [
        "text=\"that movie is trash .\""
      ],
      "execution_count": 0,
      "outputs": []
    },
    {
      "cell_type": "code",
      "metadata": {
        "id": "hshuz5z8HlU-",
        "colab_type": "code",
        "outputId": "74f725a0-e4bf-4db9-de15-4a1be000f0dc",
        "colab": {
          "base_uri": "https://localhost:8080/",
          "height": 51
        }
      },
      "source": [
        "print(\"For Text: {}\".format(text))\n",
        "print(\"Prediction by model is: {}\".format(predict(text)))"
      ],
      "execution_count": 0,
      "outputs": [
        {
          "output_type": "stream",
          "text": [
            "For Text: that movie is trash . it has bad music and scrappy action sequence . waste of money\n",
            "Prediction by model is: negative\n"
          ],
          "name": "stdout"
        }
      ]
    }
  ]
}
